{
 "cells": [
  {
   "cell_type": "code",
   "execution_count": 14,
   "metadata": {},
   "outputs": [],
   "source": [
    "from glob import glob\n",
    "import os\n",
    "import shutil as sh\n",
    "import numpy as np\n",
    "from tqdm import tqdm\n",
    "from bs4 import BeautifulSoup as bs"
   ]
  },
  {
   "cell_type": "code",
   "execution_count": 15,
   "metadata": {},
   "outputs": [],
   "source": [
    "path_textbook = '../../textbook/'\n",
    "path_out = '../'"
   ]
  },
  {
   "cell_type": "code",
   "execution_count": 16,
   "metadata": {},
   "outputs": [],
   "source": [
    "def insert_meta(lines, vals):\n",
    "    # Create metadata\n",
    "    meta = ['---'] + vals + ['---', '']\n",
    "    meta = [ii+'\\n' for ii in meta]\n",
    "    for meta_line in meta[::-1]:\n",
    "        lines.insert(0, meta_line)\n",
    "    return lines\n",
    "\n",
    "def take_inbetween(line, bw='()'):\n",
    "    take = line.split(bw[0])[-1].split(bw[1])[0]\n",
    "    return take\n",
    "\n",
    "def create_hub_link(filepath, binder=False):\n",
    "    if binder is True:\n",
    "        interact_link = 'https://mybinder.org/v2/gh/data-8/textbook/gh-pages?'\n",
    "        filepath_section = 'filepath={}'.format(filepath)\n",
    "    else:\n",
    "        interact_link = '{{ site.hub_url }}/hub/user-redirect/git-pull?repo={{ site.textbook_url }}'\n",
    "        filepath_section = '&branch={{ site.textbook_branch }}' + '&subPath={}'.format(filepath)\n",
    "    return interact_link + filepath_section"
   ]
  },
  {
   "cell_type": "markdown",
   "metadata": {},
   "source": [
    "# Copy over readme"
   ]
  },
  {
   "cell_type": "code",
   "execution_count": 17,
   "metadata": {},
   "outputs": [],
   "source": [
    "path_readme = os.path.join(path_textbook, 'README.md')\n",
    "with open(path_readme, 'r') as ff:\n",
    "    lines = ff.readlines()\n",
    "meta_add = ['layout: single', 'title: Introduction', 'sidebar:', '  title: \"Textbook Navigation\"', '  nav: sidebar-textbook']\n",
    "lines = insert_meta(lines, meta_add)\n",
    "\n",
    "with open(os.path.join(path_out, 'textbook', 'index.md'), 'w') as ff:\n",
    "    ff.writelines(lines)"
   ]
  },
  {
   "cell_type": "markdown",
   "metadata": {},
   "source": [
    "# Copy over summary"
   ]
  },
  {
   "cell_type": "code",
   "execution_count": 18,
   "metadata": {},
   "outputs": [],
   "source": [
    "path_summary = os.path.join(path_textbook, 'SUMMARY.md')\n",
    "with open(path_summary, 'r') as ff:\n",
    "    lines = ff.readlines()\n",
    "lines = lines[2:]\n",
    "\n",
    "from collections import OrderedDict\n",
    "\n",
    "# Copy over the summary into a Jekyll sidebar structure\n",
    "summary = OrderedDict()\n",
    "for line in lines:\n",
    "    title = take_inbetween(line, '[]')\n",
    "    link = take_inbetween(line, '()')\n",
    "    level = line.find('*')\n",
    "\n",
    "    if level == 0:\n",
    "        header = title\n",
    "        # Create a new title section\n",
    "        if not summary.get(header):\n",
    "            summary[header] = []\n",
    "    new_link = link.replace('chapters/', '/textbook/')\n",
    "    new_link = os.path.splitext(new_link)[0]\n",
    "    summary[header].append((title, new_link))\n",
    "    \n",
    "navigation_yml = ['sidebar-textbook:']\n",
    "for key, vals in summary.items():\n",
    "    title, link = vals[0]\n",
    "    navigation_yml += ['  - title: \"{}\"'.format(title.replace('\"', \"'\")),\n",
    "                       '    url: {}'.format(link),\n",
    "                       '    children:']\n",
    "    for title, link in vals[1:]:\n",
    "        level = len(title.split(' ')[0].split('.')) - 1\n",
    "        to_add = ['      - title: \"{}\"'.format(title.replace('\"', \"'\")),\n",
    "                  '        url: {}'.format(link),\n",
    "                  '        class: \"level_{}\"'.format(level)]\n",
    "        navigation_yml += to_add\n",
    "navigation_yml = [ii+'\\n' for ii in navigation_yml]\n",
    "\n",
    "# Replace old sidebar section in navigation\n",
    "with open(os.path.join(path_out, '_data', 'navigation.yml'), 'r') as ff:\n",
    "    lines = ff.readlines()\n",
    "\n",
    "ix_nav = np.where(['sidebar-textbook' in line for line in lines])[0][0]\n",
    "lines = lines[:ix_nav]\n",
    "lines += navigation_yml\n",
    "\n",
    "with open(os.path.join(path_out, '_data', 'navigation.yml'), 'w') as ff:\n",
    "    ff.writelines(lines)"
   ]
  },
  {
   "cell_type": "markdown",
   "metadata": {},
   "source": [
    "# Copy over markdown files"
   ]
  },
  {
   "cell_type": "code",
   "execution_count": 19,
   "metadata": {},
   "outputs": [],
   "source": [
    "from bs4 import BeautifulSoup as bs"
   ]
  },
  {
   "cell_type": "code",
   "execution_count": 20,
   "metadata": {},
   "outputs": [],
   "source": [
    "markdown_files = glob(os.path.join(path_textbook, './chapters/**/*.md'), recursive=True)"
   ]
  },
  {
   "cell_type": "code",
   "execution_count": 21,
   "metadata": {},
   "outputs": [],
   "source": [
    "for i_md in markdown_files:\n",
    "    path_new = os.path.join(path_out, i_md.replace('chapters/', 'textbook/'))\n",
    "\n",
    "    with open(i_md, 'r') as ff:\n",
    "        lines = ff.readlines()\n",
    "    \n",
    "    # Create metadata\n",
    "    insert_meta(lines, ['layout: single', 'sidebar:', '  nav: sidebar-textbook'])\n",
    "       \n",
    "    # Path for includes\n",
    "    for ii, line in enumerate(lines):\n",
    "        if 'notebooks-html' in line:\n",
    "            # Update textbook jupyter notebook images\n",
    "            new_line = '{% include ' + os.path.join('notebooks-html', line.split('notebooks-html/')[-1])\n",
    "            lines[ii] = new_line.replace('\"', '')\n",
    "        elif '](/images' in line:\n",
    "            # Update textbook images\n",
    "            new_line = line.replace('](/images', ']({{ site.baseurl }}/images')\n",
    "            lines[ii] = new_line\n",
    "    \n",
    "    if not os.path.isdir(os.path.dirname(path_new)):\n",
    "        os.makedirs(os.path.dirname(path_new))\n",
    "        \n",
    "    with open(path_new, 'w') as ff:\n",
    "        ff.writelines(lines)"
   ]
  },
  {
   "cell_type": "markdown",
   "metadata": {},
   "source": [
    "# Copy over the notebooks-html pages"
   ]
  },
  {
   "cell_type": "code",
   "execution_count": null,
   "metadata": {},
   "outputs": [],
   "source": [
    "# HTML\n",
    "if os.path.exists(os.path.join(path_out, '_includes', 'notebooks-html')):\n",
    "    sh.rmtree(os.path.join(path_out, '_includes', 'notebooks-html'))\n",
    "sh.copytree(os.path.join(path_textbook, 'notebooks-html/'),\n",
    "            os.path.join(path_out, '_includes', 'notebooks-html'))\n",
    "\n",
    "# Update the HTML to use the site URL\n",
    "html_files = glob(os.path.join(path_out, '_includes', 'notebooks-html', '*.html'))\n",
    "for i_html in html_files:\n",
    "    with open(i_html, 'r') as ff:\n",
    "        text = ff.read()\n",
    "    newtext = text.replace('src=\"/notebooks-images', 'src=\"{{ site.baseurl }}/notebooks-images')\n",
    "    newtext = newtext.replace('src=\"/images', 'src=\"{{ site.baseurl }}/images')\n",
    "\n",
    "    with open(i_html, 'w') as ff:\n",
    "        ff.write(newtext)\n",
    "        \n",
    "# Notebook Images\n",
    "path_out_ntbk_img = os.path.join(path_out, 'notebooks-images')\n",
    "if os.path.exists(path_out_ntbk_img):\n",
    "    sh.rmtree(path_out_ntbk_img)\n",
    "sh.copytree(os.path.join(path_textbook, 'notebooks-images'), path_out_ntbk_img)\n",
    "\n",
    "# Images\n",
    "path_out_text_img = os.path.join(path_out, 'images')\n",
    "if os.path.exists(path_out_text_img):\n",
    "    sh.rmtree(path_out_text_img)\n",
    "sh.copytree(os.path.join(path_textbook, 'images'), path_out_text_img)"
   ]
  },
  {
   "cell_type": "markdown",
   "metadata": {},
   "source": [
    "# Replace interact links with jekyll-specific ones"
   ]
  },
  {
   "cell_type": "code",
   "execution_count": null,
   "metadata": {},
   "outputs": [],
   "source": [
    "for i_html in tqdm(html_files):\n",
    "    with open(i_html, 'r') as ff:\n",
    "        html_bs = bs(ff.read(), 'html5lib')\n",
    "    \n",
    "    # Find the interact link and skip if it's not there\n",
    "    interact = html_bs.find_all('a', attrs={'class': 'interact-button'})\n",
    "    if len(interact) == 0:\n",
    "        continue\n",
    "    interact = interact[0]\n",
    "\n",
    "    # Grab the filepath, then replace the link with a jupyterhub jekyll link\n",
    "    filepath = interact.attrs['href'].split('filepath=')[-1]\n",
    "    new_link = create_hub_link(filepath)\n",
    "    interact.attrs['href'] = new_link\n",
    "    \n",
    "    # Write the updated HTML\n",
    "    with open(i_html, 'w') as ff:\n",
    "        ff.write(str(html_bs))\n",
    "    "
   ]
  }
 ],
 "metadata": {
  "kernelspec": {
   "display_name": "Python 3",
   "language": "python",
   "name": "python3"
  },
  "language_info": {
   "codemirror_mode": {
    "name": "ipython",
    "version": 3
   },
   "file_extension": ".py",
   "mimetype": "text/x-python",
   "name": "python",
   "nbconvert_exporter": "python",
   "pygments_lexer": "ipython3",
   "version": "3.6.4"
  }
 },
 "nbformat": 4,
 "nbformat_minor": 2
}
